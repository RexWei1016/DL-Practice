{
 "cells": [
  {
   "cell_type": "markdown",
   "metadata": {},
   "source": [
    "## CNN 練習實作"
   ]
  },
  {
   "cell_type": "markdown",
   "metadata": {},
   "source": [
    "### 導入套件"
   ]
  },
  {
   "cell_type": "code",
   "execution_count": 10,
   "metadata": {},
   "outputs": [],
   "source": [
    "import numpy as np\n",
    "import struct\n",
    "import gzip\n",
    "import os\n",
    "import tensorflow as tf\n",
    "from tensorflow.keras import layers, models\n",
    "\n",
    "import matplotlib.pyplot as plt\n"
   ]
  },
  {
   "cell_type": "markdown",
   "metadata": {},
   "source": [
    "### 讀取資料集"
   ]
  },
  {
   "cell_type": "code",
   "execution_count": 7,
   "metadata": {},
   "outputs": [],
   "source": [
    "def load_mnist(path, kind='train'):\n",
    "    # gz壓縮檔處理\n",
    "    labels_path = os.path.join(path, f'{kind}-labels-idx1-ubyte.gz')\n",
    "    images_path = os.path.join(path, f'{kind}-images-idx3-ubyte.gz')\n",
    "\n",
    "    with gzip.open(labels_path, 'rb') as lbpath:\n",
    "        magic, n = struct.unpack('>II', lbpath.read(8))\n",
    "        labels = np.frombuffer(lbpath.read(), dtype=np.uint8)\n",
    "\n",
    "    with gzip.open(images_path, 'rb') as imgpath:\n",
    "        magic, num, rows, cols = struct.unpack('>IIII', imgpath.read(16))\n",
    "        images = np.frombuffer(imgpath.read(), dtype=np.uint8).reshape(len(labels), 784)\n",
    "\n",
    "    return images, labels\n",
    "train_images, train_labels = load_mnist('Dataset', kind='train')\n",
    "test_images, test_labels = load_mnist('Dataset', kind='t10k')\n"
   ]
  },
  {
   "cell_type": "markdown",
   "metadata": {},
   "source": [
    "### 資料前處理"
   ]
  },
  {
   "cell_type": "code",
   "execution_count": 8,
   "metadata": {},
   "outputs": [],
   "source": [
    "# 標準化\n",
    "train_images = train_images.reshape(-1, 28, 28, 1).astype('float32') / 255.0\n",
    "test_images = test_images.reshape(-1, 28, 28, 1).astype('float32') / 255.0\n",
    "# 進行One-hot編碼\n",
    "train_labels = tf.keras.utils.to_categorical(train_labels, 10)\n",
    "test_labels = tf.keras.utils.to_categorical(test_labels, 10)\n"
   ]
  },
  {
   "cell_type": "code",
   "execution_count": 16,
   "metadata": {},
   "outputs": [
    {
     "data": {
      "image/png": "[encoded data removed]",
      "text/plain": [
       "<Figure size 1500x300 with 6 Axes>"
      ]
     },
     "metadata": {},
     "output_type": "display_data"
    },
    {
     "data": {
      "image/png": "[encoded data removed]",
      "text/plain": [
       "<Figure size 1500x300 with 6 Axes>"
      ]
     },
     "metadata": {},
     "output_type": "display_data"
    }
   ],
   "source": [
    "def plot_images(images, labels, predictions=None):\n",
    "    fig, axes = plt.subplots(1, 6, figsize=(15, 3))\n",
    "    for i in range(6):\n",
    "        ax = axes[i]\n",
    "        ax.imshow(images[i].reshape(28, 28), cmap='gray')\n",
    "        if predictions is None:\n",
    "            ax.set_title(f'True: {np.argmax(labels[i])}')\n",
    "        else:\n",
    "            ax.set_title(f'True: {np.argmax(labels[i])}, Pred: {np.argmax(predictions[i])}')\n",
    "        ax.axis('off')\n",
    "    plt.show()\n",
    "\n",
    "# 顯示部分訓練圖片\n",
    "plot_images(train_images, train_labels)\n",
    "\n",
    "# 顯示部分測試圖片\n",
    "plot_images(test_images, test_labels)"
   ]
  },
  {
   "cell_type": "markdown",
   "metadata": {},
   "source": [
    "### 建立模型"
   ]
  },
  {
   "cell_type": "code",
   "execution_count": 17,
   "metadata": {},
   "outputs": [],
   "source": [
    "# 構建模型\n",
    "model = models.Sequential([\n",
    "    layers.Conv2D(32, (3, 3), activation='relu', input_shape=(28, 28, 1)),\n",
    "    layers.MaxPooling2D((2, 2)),\n",
    "    layers.Conv2D(64, (3, 3), activation='relu'),\n",
    "    layers.MaxPooling2D((2, 2)),\n",
    "    layers.Flatten(),\n",
    "    layers.Dense(128, activation='relu'),\n",
    "    layers.Dropout(0.5),\n",
    "    layers.Dense(10, activation='softmax')\n",
    "])\n",
    "# Compile模型\n",
    "model.compile(optimizer='adam', loss='categorical_crossentropy', metrics=['accuracy'])\n"
   ]
  },
  {
   "cell_type": "markdown",
   "metadata": {},
   "source": [
    "### 評估模型 (* 未經訓練)"
   ]
  },
  {
   "cell_type": "code",
   "execution_count": 18,
   "metadata": {},
   "outputs": [
    {
     "name": "stdout",
     "output_type": "stream",
     "text": [
      "313/313 [==============================] - 1s 3ms/step - loss: 2.3026 - accuracy: 0.1365\n",
      "Test accuracy: 0.1365\n",
      "1/1 [==============================] - 0s 36ms/step\n",
      "Predictions:  [7 7 6 7 6]\n",
      "True labels:  [7 2 1 0 4]\n"
     ]
    }
   ],
   "source": [
    "# 評估模型\n",
    "test_loss, test_acc = model.evaluate(test_images, test_labels)\n",
    "print(f'Test accuracy: {test_acc:.4f}')\n",
    "\n",
    "# 顯示部分預測結果\n",
    "predictions = model.predict(test_images[:5])\n",
    "print(\"Predictions: \", np.argmax(predictions, axis=1))\n",
    "print(\"True labels: \", np.argmax(test_labels[:5], axis=1))\n"
   ]
  },
  {
   "cell_type": "markdown",
   "metadata": {},
   "source": [
    "### 訓練模型 & 再次評估"
   ]
  },
  {
   "cell_type": "code",
   "execution_count": 19,
   "metadata": {},
   "outputs": [
    {
     "name": "stdout",
     "output_type": "stream",
     "text": [
      "Epoch 1/10\n",
      "469/469 [==============================] - 11s 23ms/step - loss: 1.2434 - accuracy: 0.5796 - val_loss: 0.4035 - val_accuracy: 0.8821\n",
      "Epoch 2/10\n",
      "469/469 [==============================] - 11s 23ms/step - loss: 0.4681 - accuracy: 0.8564 - val_loss: 0.2432 - val_accuracy: 0.9272\n",
      "Epoch 3/10\n",
      "469/469 [==============================] - 11s 23ms/step - loss: 0.3407 - accuracy: 0.8971 - val_loss: 0.1787 - val_accuracy: 0.9484\n",
      "Epoch 4/10\n",
      "469/469 [==============================] - 11s 23ms/step - loss: 0.2694 - accuracy: 0.9199 - val_loss: 0.1324 - val_accuracy: 0.9582\n",
      "Epoch 5/10\n",
      "469/469 [==============================] - 11s 22ms/step - loss: 0.2280 - accuracy: 0.9330 - val_loss: 0.1141 - val_accuracy: 0.9649\n",
      "Epoch 6/10\n",
      "469/469 [==============================] - 11s 22ms/step - loss: 0.2013 - accuracy: 0.9411 - val_loss: 0.1018 - val_accuracy: 0.9683\n",
      "Epoch 7/10\n",
      "469/469 [==============================] - 11s 23ms/step - loss: 0.1796 - accuracy: 0.9474 - val_loss: 0.0933 - val_accuracy: 0.9704\n",
      "Epoch 8/10\n",
      "469/469 [==============================] - 11s 23ms/step - loss: 0.1634 - accuracy: 0.9514 - val_loss: 0.0825 - val_accuracy: 0.9724\n",
      "Epoch 9/10\n",
      "469/469 [==============================] - 11s 23ms/step - loss: 0.1495 - accuracy: 0.9559 - val_loss: 0.0764 - val_accuracy: 0.9757\n",
      "Epoch 10/10\n",
      "469/469 [==============================] - 11s 23ms/step - loss: 0.1429 - accuracy: 0.9578 - val_loss: 0.0714 - val_accuracy: 0.9770\n",
      "313/313 [==============================] - 1s 3ms/step - loss: 0.0714 - accuracy: 0.9770\n",
      "Test accuracy: 0.9770\n",
      "1/1 [==============================] - 0s 12ms/step\n",
      "Predictions:  [7 2 1 0 4]\n",
      "True labels:  [7 2 1 0 4]\n"
     ]
    }
   ],
   "source": [
    "# 訓練模型\n",
    "model.fit(train_images, train_labels, epochs=10, batch_size=128, validation_data=(test_images, test_labels))\n",
    "# 評估模型\n",
    "test_loss, test_acc = model.evaluate(test_images, test_labels)\n",
    "print(f'Test accuracy: {test_acc:.4f}')\n",
    "\n",
    "# 顯示部分預測結果\n",
    "predictions = model.predict(test_images[:5])\n",
    "print(\"Predictions: \", np.argmax(predictions, axis=1))\n",
    "print(\"True labels: \", np.argmax(test_labels[:5], axis=1))\n"
   ]
  },
  {
   "cell_type": "markdown",
   "metadata": {},
   "source": [
    "## 完整版"
   ]
  },
  {
   "cell_type": "code",
   "execution_count": 5,
   "metadata": {},
   "outputs": [
    {
     "name": "stdout",
     "output_type": "stream",
     "text": [
      "Epoch 1/10\n",
      "469/469 [==============================] - 12s 24ms/step - loss: 0.2919 - accuracy: 0.9113 - val_loss: 0.0636 - val_accuracy: 0.9795\n",
      "Epoch 2/10\n",
      "469/469 [==============================] - 11s 23ms/step - loss: 0.0945 - accuracy: 0.9718 - val_loss: 0.0429 - val_accuracy: 0.9865\n",
      "Epoch 3/10\n",
      "469/469 [==============================] - 11s 23ms/step - loss: 0.0672 - accuracy: 0.9798 - val_loss: 0.0397 - val_accuracy: 0.9865\n",
      "Epoch 4/10\n",
      "469/469 [==============================] - 11s 23ms/step - loss: 0.0541 - accuracy: 0.9840 - val_loss: 0.0313 - val_accuracy: 0.9887\n",
      "Epoch 5/10\n",
      "469/469 [==============================] - 11s 24ms/step - loss: 0.0478 - accuracy: 0.9857 - val_loss: 0.0291 - val_accuracy: 0.9903\n",
      "Epoch 6/10\n",
      "469/469 [==============================] - 11s 23ms/step - loss: 0.0392 - accuracy: 0.9876 - val_loss: 0.0273 - val_accuracy: 0.9905\n",
      "Epoch 7/10\n",
      "469/469 [==============================] - 11s 23ms/step - loss: 0.0348 - accuracy: 0.9893 - val_loss: 0.0233 - val_accuracy: 0.9925\n",
      "Epoch 8/10\n",
      "469/469 [==============================] - 11s 23ms/step - loss: 0.0302 - accuracy: 0.9908 - val_loss: 0.0249 - val_accuracy: 0.9918\n",
      "Epoch 9/10\n",
      "469/469 [==============================] - 10s 22ms/step - loss: 0.0281 - accuracy: 0.9912 - val_loss: 0.0235 - val_accuracy: 0.9921\n",
      "Epoch 10/10\n",
      "469/469 [==============================] - 11s 23ms/step - loss: 0.0252 - accuracy: 0.9923 - val_loss: 0.0240 - val_accuracy: 0.9922\n",
      "313/313 [==============================] - 1s 2ms/step - loss: 0.0240 - accuracy: 0.9922\n",
      "Test accuracy: 0.9922\n",
      "1/1 [==============================] - 0s 55ms/step\n",
      "Predictions:  [7 2 1 0 4]\n",
      "True labels:  [7 2 1 0 4]\n"
     ]
    }
   ],
   "source": [
    "import numpy as np\n",
    "import struct\n",
    "import gzip\n",
    "import os\n",
    "import tensorflow as tf\n",
    "from tensorflow.keras import layers, models\n",
    "\n",
    "# 讀取MNIST\n",
    "def load_mnist(path, kind='train'):\n",
    "    \"\"\"Load MNIST data from `path`\"\"\"\n",
    "    labels_path = os.path.join(path, f'{kind}-labels-idx1-ubyte.gz')\n",
    "    images_path = os.path.join(path, f'{kind}-images-idx3-ubyte.gz')\n",
    "\n",
    "    with gzip.open(labels_path, 'rb') as lbpath:\n",
    "        magic, n = struct.unpack('>II', lbpath.read(8))\n",
    "        labels = np.frombuffer(lbpath.read(), dtype=np.uint8)\n",
    "\n",
    "    with gzip.open(images_path, 'rb') as imgpath:\n",
    "        magic, num, rows, cols = struct.unpack('>IIII', imgpath.read(16))\n",
    "        images = np.frombuffer(imgpath.read(), dtype=np.uint8).reshape(len(labels), 784)\n",
    "\n",
    "    return images, labels\n",
    "\n",
    "train_images, train_labels = load_mnist('Dataset', kind='train')\n",
    "test_images, test_labels = load_mnist('Dataset', kind='t10k')\n",
    "\n",
    "train_images = train_images.reshape(-1, 28, 28, 1).astype('float32') / 255.0\n",
    "test_images = test_images.reshape(-1, 28, 28, 1).astype('float32') / 255.0\n",
    "\n",
    "train_labels = tf.keras.utils.to_categorical(train_labels, 10)\n",
    "test_labels = tf.keras.utils.to_categorical(test_labels, 10)\n",
    "\n",
    "model = models.Sequential([\n",
    "    layers.Conv2D(32, (3, 3), activation='relu', input_shape=(28, 28, 1)),\n",
    "    layers.MaxPooling2D((2, 2)),\n",
    "    layers.Conv2D(64, (3, 3), activation='relu'),\n",
    "    layers.MaxPooling2D((2, 2)),\n",
    "    layers.Flatten(),\n",
    "    layers.Dense(128, activation='relu'),\n",
    "    layers.Dropout(0.5),\n",
    "    layers.Dense(10, activation='softmax')\n",
    "])\n",
    "\n",
    "\n",
    "model.compile(optimizer='adam', loss='categorical_crossentropy', metrics=['accuracy'])\n",
    "model.fit(train_images, train_labels, epochs=10, batch_size=128, validation_data=(test_images, test_labels))\n",
    "\n",
    "# 評估模型\n",
    "test_loss, test_acc = model.evaluate(test_images, test_labels)\n",
    "print(f'Test accuracy: {test_acc:.4f}')\n",
    "\n",
    "# 顯示部分預測結果\n",
    "predictions = model.predict(test_images[:5])\n",
    "print(\"Predictions: \", np.argmax(predictions, axis=1))\n",
    "print(\"True labels: \", np.argmax(test_labels[:5], axis=1))\n"
   ]
  },
  {
   "cell_type": "code",
   "execution_count": null,
   "metadata": {},
   "outputs": [],
   "source": []
  }
 ],
 "metadata": {
  "kernelspec": {
   "display_name": "DeepLearn",
   "language": "python",
   "name": "python3"
  },
  "language_info": {
   "codemirror_mode": {
    "name": "ipython",
    "version": 3
   },
   "file_extension": ".py",
   "mimetype": "text/x-python",
   "name": "python",
   "nbconvert_exporter": "python",
   "pygments_lexer": "ipython3",
   "version": "3.8.17"
  }
 },
 "nbformat": 4,
 "nbformat_minor": 2
}
